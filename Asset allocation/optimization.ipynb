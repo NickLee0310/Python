{
 "cells": [
  {
   "cell_type": "code",
   "execution_count": 2,
   "metadata": {},
   "outputs": [],
   "source": [
    "import numpy as np\n",
    "import pandas as pd\n",
    "import matplotlib.pyplot as plt\n",
    "from scipy.optimize import linprog\n",
    "from scipy.optimize import minimize"
   ]
  },
  {
   "cell_type": "code",
   "execution_count": 49,
   "metadata": {},
   "outputs": [],
   "source": [
    "def object_MVO(w):\n",
    "    #new_cov = cov\n",
    "    zigma = np.sqrt(w.dot(cov).dot(w.T))\n",
    "    return -(w.dot(u))/zigma\n",
    "\n",
    "def object_Maximum_Diversification(w):\n",
    "    #new_cov = cov\n",
    "    zigma = np.sqrt(w.dot(cov).dot(w.T))\n",
    "    return -(w.dot(zigma_v))/zigma\n",
    "\n",
    "def object_Minimum_Variance(w):\n",
    "    #new_cov = cov\n",
    "    return w.dot(cov).dot(w.T)\n",
    "             \n",
    "\n",
    "##目標函數\n",
    "def object_Equal_Risk(w):\n",
    "    #new_cov = cov\n",
    "    zigma = np.sqrt(w.dot(cov).dot(w.T))\n",
    "    return ((w - zigma**2/cov.dot(w)/len(w))**2).sum()             \n",
    "             \n",
    "##限制條件\n",
    "def constraint_EWRP(w):\n",
    "    return 0.10 - np.sqrt(w.T.dot(cov).dot(w))*np.sqrt(252)\n",
    "def constraint_equal_weight(w):\n",
    "    return np.sum(w) - 1"
   ]
  },
  {
   "cell_type": "code",
   "execution_count": 10,
   "metadata": {},
   "outputs": [],
   "source": [
    "w_int = np.array([1/3,1/3,1/3])"
   ]
  },
  {
   "cell_type": "code",
   "execution_count": 4,
   "metadata": {},
   "outputs": [],
   "source": [
    "bound=[(0,1) for i in range(3)]"
   ]
  },
  {
   "cell_type": "markdown",
   "metadata": {},
   "source": [
    "# 都一樣"
   ]
  },
  {
   "cell_type": "code",
   "execution_count": 16,
   "metadata": {},
   "outputs": [],
   "source": [
    "u = [0.05,0.05,0.05]\n",
    "zigma_v = [0.1,0.1,0.1]\n",
    "cov = np.array([[0.01,0.001,0.001],[0.001,0.01,0.001],[0.001,0.001,0.01]])"
   ]
  },
  {
   "cell_type": "code",
   "execution_count": 20,
   "metadata": {},
   "outputs": [
    {
     "data": {
      "text/plain": [
       "array([0.33333333, 0.33333333, 0.33333333])"
      ]
     },
     "execution_count": 20,
     "metadata": {},
     "output_type": "execute_result"
    }
   ],
   "source": [
    "minimize(object_MVO,w_int,method='SLSQP',\\\n",
    "                   bounds=bound, constraints={'type': 'eq', 'fun': constraint_equal_weight}).x"
   ]
  },
  {
   "cell_type": "code",
   "execution_count": 21,
   "metadata": {},
   "outputs": [
    {
     "data": {
      "text/plain": [
       "array([0.33333333, 0.33333333, 0.33333333])"
      ]
     },
     "execution_count": 21,
     "metadata": {},
     "output_type": "execute_result"
    }
   ],
   "source": [
    "minimize(object_Minimum_Diversification,w_int,method='SLSQP',\\\n",
    "                   bounds=bound, constraints={'type': 'eq', 'fun': constraint_equal_weight}).x"
   ]
  },
  {
   "cell_type": "code",
   "execution_count": 15,
   "metadata": {},
   "outputs": [
    {
     "data": {
      "text/plain": [
       "array([0.33333333, 0.33333333, 0.33333333])"
      ]
     },
     "execution_count": 15,
     "metadata": {},
     "output_type": "execute_result"
    }
   ],
   "source": [
    "minimize(object_Equal_Risk,w_int,method='SLSQP',\\\n",
    "                   bounds=bound, constraints={'type': 'eq', 'fun': constraint_equal_weight}).x"
   ]
  },
  {
   "cell_type": "code",
   "execution_count": 25,
   "metadata": {},
   "outputs": [],
   "source": [
    "u = [0.05,0.1,0.15]\n",
    "zigma_v = [0.1,0.2,0.3]\n",
    "cov = np.array([[0.01,0.002,0.003],[0.002,0.04,0.006],[0.003,0.006,0.09]])"
   ]
  },
  {
   "cell_type": "code",
   "execution_count": 26,
   "metadata": {},
   "outputs": [
    {
     "data": {
      "text/plain": [
       "array([[0.01 , 0.002, 0.003],\n",
       "       [0.002, 0.04 , 0.006],\n",
       "       [0.003, 0.006, 0.09 ]])"
      ]
     },
     "execution_count": 26,
     "metadata": {},
     "output_type": "execute_result"
    }
   ],
   "source": [
    "cov"
   ]
  },
  {
   "cell_type": "code",
   "execution_count": 32,
   "metadata": {},
   "outputs": [
    {
     "data": {
      "text/plain": [
       "array([0.54541786, 0.27278494, 0.1817972 ])"
      ]
     },
     "execution_count": 32,
     "metadata": {},
     "output_type": "execute_result"
    }
   ],
   "source": [
    "minimize(object_MVO,w_int,method='SLSQP',\\\n",
    "                   bounds=bound, constraints={'type': 'eq', 'fun': constraint_equal_weight}).x"
   ]
  },
  {
   "cell_type": "code",
   "execution_count": 28,
   "metadata": {},
   "outputs": [
    {
     "data": {
      "text/plain": [
       "array([0.5453525 , 0.27289106, 0.18175645])"
      ]
     },
     "execution_count": 28,
     "metadata": {},
     "output_type": "execute_result"
    }
   ],
   "source": [
    "minimize(object_Minimum_Diversification,w_int,method='SLSQP',\\\n",
    "                   bounds=bound, constraints={'type': 'eq', 'fun': constraint_equal_weight}).x"
   ]
  },
  {
   "cell_type": "code",
   "execution_count": 29,
   "metadata": {},
   "outputs": [
    {
     "data": {
      "text/plain": [
       "array([0.54547555, 0.27277189, 0.18175256])"
      ]
     },
     "execution_count": 29,
     "metadata": {},
     "output_type": "execute_result"
    }
   ],
   "source": [
    "minimize(object_Equal_Risk,w_int,method='SLSQP',\\\n",
    "                   bounds=bound, constraints={'type': 'eq', 'fun': constraint_equal_weight}).x"
   ]
  },
  {
   "cell_type": "code",
   "execution_count": 37,
   "metadata": {},
   "outputs": [],
   "source": [
    "u = [0.05,0.1,0.15]\n",
    "zigma_v = [0.1,0.2,0.3]\n",
    "cov = np.array([[0.01,0.004,0.006],[0.004,0.04,0.03],[0.006,0.03,0.09]])"
   ]
  },
  {
   "cell_type": "code",
   "execution_count": 38,
   "metadata": {},
   "outputs": [
    {
     "data": {
      "text/plain": [
       "array([[0.01 , 0.004, 0.006],\n",
       "       [0.004, 0.04 , 0.03 ],\n",
       "       [0.006, 0.03 , 0.09 ]])"
      ]
     },
     "execution_count": 38,
     "metadata": {},
     "output_type": "execute_result"
    }
   ],
   "source": [
    "cov"
   ]
  },
  {
   "cell_type": "code",
   "execution_count": 39,
   "metadata": {},
   "outputs": [
    {
     "data": {
      "text/plain": [
       "array([0.62211422, 0.22697901, 0.15090677])"
      ]
     },
     "execution_count": 39,
     "metadata": {},
     "output_type": "execute_result"
    }
   ],
   "source": [
    "minimize(object_MVO,w_int,method='SLSQP',\\\n",
    "                   bounds=bound, constraints={'type': 'eq', 'fun': constraint_equal_weight}).x"
   ]
  },
  {
   "cell_type": "code",
   "execution_count": 40,
   "metadata": {},
   "outputs": [
    {
     "data": {
      "text/plain": [
       "array([0.62263235, 0.22641537, 0.15095228])"
      ]
     },
     "execution_count": 40,
     "metadata": {},
     "output_type": "execute_result"
    }
   ],
   "source": [
    "minimize(object_Minimum_Diversification,w_int,method='SLSQP',\\\n",
    "                   bounds=bound, constraints={'type': 'eq', 'fun': constraint_equal_weight}).x"
   ]
  },
  {
   "cell_type": "code",
   "execution_count": 41,
   "metadata": {},
   "outputs": [
    {
     "data": {
      "text/plain": [
       "array([0.57545887, 0.2548402 , 0.16970093])"
      ]
     },
     "execution_count": 41,
     "metadata": {},
     "output_type": "execute_result"
    }
   ],
   "source": [
    "minimize(object_Equal_Risk,w_int,method='SLSQP',\\\n",
    "                   bounds=bound, constraints={'type': 'eq', 'fun': constraint_equal_weight}).x"
   ]
  },
  {
   "cell_type": "code",
   "execution_count": 50,
   "metadata": {},
   "outputs": [],
   "source": [
    "u = [0.1,0.1,0.1]\n",
    "zigma_v = [0.1,0.2,0.3]\n",
    "cov = np.array([[0.01,0.004,0.006],[0.004,0.04,0.03],[0.006,0.03,0.09]])"
   ]
  },
  {
   "cell_type": "code",
   "execution_count": 51,
   "metadata": {},
   "outputs": [
    {
     "data": {
      "text/plain": [
       "array([8.57316082e-01, 1.42683918e-01, 1.27834670e-17])"
      ]
     },
     "execution_count": 51,
     "metadata": {},
     "output_type": "execute_result"
    }
   ],
   "source": [
    "minimize(object_MVO,w_int,method='SLSQP',\\\n",
    "                   bounds=bound, constraints={'type': 'eq', 'fun': constraint_equal_weight}).x"
   ]
  },
  {
   "cell_type": "code",
   "execution_count": 52,
   "metadata": {},
   "outputs": [
    {
     "data": {
      "text/plain": [
       "array([0.85714286, 0.14285714, 0.        ])"
      ]
     },
     "execution_count": 52,
     "metadata": {},
     "output_type": "execute_result"
    }
   ],
   "source": [
    "minimize(object_Minimum_Variance,w_int,method='SLSQP',\\\n",
    "                   bounds=bound, constraints={'type': 'eq', 'fun': constraint_equal_weight}).x"
   ]
  },
  {
   "cell_type": "code",
   "execution_count": null,
   "metadata": {},
   "outputs": [],
   "source": []
  }
 ],
 "metadata": {
  "kernelspec": {
   "display_name": "Python 3",
   "language": "python",
   "name": "python3"
  },
  "language_info": {
   "codemirror_mode": {
    "name": "ipython",
    "version": 3
   },
   "file_extension": ".py",
   "mimetype": "text/x-python",
   "name": "python",
   "nbconvert_exporter": "python",
   "pygments_lexer": "ipython3",
   "version": "3.5.5"
  }
 },
 "nbformat": 4,
 "nbformat_minor": 2
}
